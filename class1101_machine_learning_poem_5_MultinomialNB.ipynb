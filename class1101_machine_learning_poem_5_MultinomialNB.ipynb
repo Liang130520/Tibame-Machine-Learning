{
  "nbformat": 4,
  "nbformat_minor": 0,
  "metadata": {
    "colab": {
      "provenance": [],
      "authorship_tag": "ABX9TyPcRVH5wNFQy0PAKGxloksJ",
      "include_colab_link": true
    },
    "kernelspec": {
      "name": "python3",
      "display_name": "Python 3"
    },
    "language_info": {
      "name": "python"
    }
  },
  "cells": [
    {
      "cell_type": "markdown",
      "metadata": {
        "id": "view-in-github",
        "colab_type": "text"
      },
      "source": [
        "<a href=\"https://colab.research.google.com/github/Liang130520/Tibame-Machine-Learning/blob/main/class1101_machine_learning_poem_5_MultinomialNB.ipynb\" target=\"_parent\"><img src=\"https://colab.research.google.com/assets/colab-badge.svg\" alt=\"Open In Colab\"/></a>"
      ]
    },
    {
      "cell_type": "code",
      "execution_count": 1,
      "metadata": {
        "colab": {
          "base_uri": "https://localhost:8080/"
        },
        "id": "0tFzW9tdSAI4",
        "outputId": "9b628b23-3f55-46db-8b17-5b194978b759"
      },
      "outputs": [
        {
          "output_type": "execute_result",
          "data": {
            "text/plain": [
              "('test.csv', <http.client.HTTPMessage at 0x7f3daddcc450>)"
            ]
          },
          "metadata": {},
          "execution_count": 1
        }
      ],
      "source": [
        "from urllib.request import urlretrieve\n",
        "url = \"https://github.com/Elwing-Chou/tibaml1017/raw/main/poem_train.csv\"\n",
        "urlretrieve(url, \"train.csv\")\n",
        "url = \"https://github.com/Elwing-Chou/tibaml1017/raw/main/poem_test.csv\"\n",
        "urlretrieve(url, \"test.csv\")"
      ]
    },
    {
      "cell_type": "code",
      "source": [
        "import pandas as pd\n",
        "train_df = pd.read_csv(\"train.csv\", encoding = \"utf-8\")\n",
        "test_df = pd.read_csv(\"test.csv\", encoding = \"utf-8\")"
      ],
      "metadata": {
        "id": "zpu8XvcTS0rb"
      },
      "execution_count": 3,
      "outputs": []
    },
    {
      "cell_type": "code",
      "source": [
        "test_df"
      ],
      "metadata": {
        "id": "l9pCgeZUThIH"
      },
      "execution_count": null,
      "outputs": []
    },
    {
      "cell_type": "code",
      "source": [
        "# 進到所有函式庫之前, 不得為series, 需全部為數字\n",
        "# pandas 有兩種形式, 有顏色差異的是二維的 data frame, 沒顏色差異的是一維 series [test_df是data frame, ]\n",
        "# Series.value_counts/unique：value_counts會幫忙計算個別與總體數量, unique只會顯示有哪幾種不同資料\n",
        "# poets = train_df[\"作者\"].value_counts()\n",
        "# poets\n",
        "\n",
        "\" 將作者修改成數字 方法1 \"\n",
        "# Series.replace(字典) [\"李白\":0, \"杜甫\":1, \"白居易\":2]\n",
        "\n",
        "\" 將作者修改成數字 方法2 \"\n",
        "poets = train_df[\"作者\"].unique()\n",
        "# poet2idx = []\n",
        "# for i in range(len(poets)):\n",
        "#   poet2idx[poets[i]] = i\n",
        "poet2idx = {poets[i]:i for i in range(len(poets))} # 這行等於上面3行, python的特殊寫法\n",
        "idx2poet = {i:poets[i] for i in range(len(poets))} # 將 index 再轉回作者名\n",
        "poet2idx\n"
      ],
      "metadata": {
        "id": "3MHKvfcAr3C9"
      },
      "execution_count": null,
      "outputs": []
    },
    {
      "cell_type": "code",
      "source": [
        "import numpy as np\n",
        "y_train = np.array(train_df[\"作者\"].replace(poet2idx))\n",
        "y_test = np.array(test_df[\"作者\"].replace(poet2idx))\n",
        "y_test"
      ],
      "metadata": {
        "id": "sJjtjBOOufT2"
      },
      "execution_count": null,
      "outputs": []
    },
    {
      "cell_type": "code",
      "source": [
        "\" Every thing is an object \" # python 內每樣東西都有其形態, 都有其操作樣式\n",
        "# 型態 + 操作\n",
        "# list + [idx]\n",
        "# dict + [key]\n",
        "# print(\"hello\") --> print:(步驟)型態, (\"hello\"):(執行)操作\n",
        "b = abs # 沒加(), 是為型態, abs是絕對值型態\n",
        "b(-5.23)\n",
        "def test(n):\n",
        "  if n == 0:\n",
        "    return np.array\n",
        "  elif n == 1:\n",
        "    return pd.Series\n",
        "  else:\n",
        "    return list\n",
        "test(2)([1, 2, 3, 4]) # test(n) -> 未打開的錦囊, ([1, 2, 3, 4]) -> 打開錦囊要的操作"
      ],
      "metadata": {
        "id": "XGCJoZhk4ISZ"
      },
      "execution_count": null,
      "outputs": []
    },
    {
      "cell_type": "code",
      "source": [
        "import jieba\n",
        "# # 通常使用jieba, 必定載入dict, (但因為古文與現代文有差異, 且老師試過, 此處不適合載入大辭典)\n",
        "# s = \"平林默默煙如織, 寒山一帶傷心碧\"\n",
        "# \" \".join(jieba.cut(s))\n",
        "# # train_df[\"內容\"]\n",
        "# Series.apply(func)\n",
        "def trans(s): \n",
        "  return \" \".join(jieba.cut(s))\n",
        "x_train = train_df[\"內容\"].apply(trans) # 尚未需要執行, 無須在trans後加()\n",
        "x_test = test_df[\"內容\"].apply(trans) # apply 是打算處理成類似英文, 空格差異, 逐個當作參數傳入\n",
        "x_test"
      ],
      "metadata": {
        "id": "eCJ7nLfK7eWJ"
      },
      "execution_count": null,
      "outputs": []
    },
    {
      "cell_type": "code",
      "source": [
        "\"\"\"\n",
        "if          詞\"我\"      詞\"你\"      詞\"他\"      依貝氏單純計算(P(李白/我, 你, 牛) = P(李白)*P(我/李白)*P(你/李白)*P(牛/李白))\n",
        "1.李白        2           0           2         2/3 * 5/13 * 3/13 * [因為無資料, 忽略(牛/李白)]\n",
        "2.杜甫        1           1           1\n",
        "3.李白        3           3           3\n",
        "\n",
        "\"\"\"\n",
        "from sklearn.feature_extraction.text import CountVectorizer\n",
        "# CountVectorizer 是看字詞出現幾遍\n",
        "# fit: 找出幾個欄位\n",
        "# transform: 找出字詞出現幾遍\n",
        "\" 訓練資料 \" # -> fit + transform\n",
        "\" 測試資料 \" # -> transform\n",
        "\n",
        "vec = CountVectorizer()\n",
        "x_train_count = vec.fit_transform(x_train)\n",
        "x_test_count = vec.transform(x_test)"
      ],
      "metadata": {
        "id": "rORYvKUyLHG2"
      },
      "execution_count": 40,
      "outputs": []
    },
    {
      "cell_type": "code",
      "source": [
        "vec.vocabulary_ # 取得內容裡的分詞次數\n",
        "# # 標點符號不影響判斷, 該被去掉, 記得一一檢查\n",
        "# vec.vocabulary_[\",\"] # sklearn 已協助去掉\n",
        "# # 換行符號(/r/n): 同樣該被去掉\n",
        "# vec.vocabulary_[\"/r\"] / vec.vocabulary_[\"/n\"] # sklearn 已協助去掉\n",
        "x_train_count # 先取得 x_train 共有多少詞, 得 2731 首詩 * 52294 種詞, 其中 85677 為非 0 位置\n",
        "# print(x_train_count)\n",
        "# 稀疏矩陣(Sparse Matrix) -> 不儲存 0 的資料, 只存非 0 位置"
      ],
      "metadata": {
        "colab": {
          "base_uri": "https://localhost:8080/"
        },
        "id": "kW3NOzcOLJZN",
        "outputId": "9010a2ea-8bfc-4725-ab35-20806c889d42"
      },
      "execution_count": 47,
      "outputs": [
        {
          "output_type": "execute_result",
          "data": {
            "text/plain": [
              "<2731x52294 sparse matrix of type '<class 'numpy.int64'>'\n",
              "\twith 85677 stored elements in Compressed Sparse Row format>"
            ]
          },
          "metadata": {},
          "execution_count": 47
        }
      ]
    },
    {
      "cell_type": "code",
      "source": [
        "from sklearn.naive_bayes import MultinomialNB\n",
        "# 採用 naive_bayes 的演算法\n",
        "clf = MultinomialNB()\n",
        "clf.fit(x_train_count, y_train)"
      ],
      "metadata": {
        "colab": {
          "base_uri": "https://localhost:8080/"
        },
        "id": "tVHc5E46Ndxr",
        "outputId": "0887ea68-2010-46dc-a63f-97f404807d9d"
      },
      "execution_count": 48,
      "outputs": [
        {
          "output_type": "execute_result",
          "data": {
            "text/plain": [
              "MultinomialNB()"
            ]
          },
          "metadata": {},
          "execution_count": 48
        }
      ]
    },
    {
      "cell_type": "code",
      "source": [
        "print(x_test_count)"
      ],
      "metadata": {
        "colab": {
          "base_uri": "https://localhost:8080/"
        },
        "id": "ij3CcfOjNwra",
        "outputId": "c3af6033-4e64-45bc-b1f1-f07f22f9042a"
      },
      "execution_count": 51,
      "outputs": [
        {
          "output_type": "stream",
          "name": "stdout",
          "text": [
            "  (0, 21652)\t1\n",
            "  (0, 29325)\t1\n",
            "  (0, 32404)\t1\n",
            "  (0, 33259)\t1\n",
            "  (0, 36144)\t1\n",
            "  (0, 40411)\t1\n",
            "  (0, 45388)\t1\n",
            "  (0, 46901)\t1\n",
            "  (0, 50588)\t1\n",
            "  (1, 201)\t1\n",
            "  (1, 1037)\t1\n",
            "  (1, 5321)\t1\n",
            "  (1, 7398)\t1\n",
            "  (1, 15739)\t1\n",
            "  (1, 23671)\t1\n",
            "  (1, 26945)\t1\n",
            "  (1, 30993)\t1\n",
            "  (1, 32734)\t1\n",
            "  (1, 44300)\t1\n",
            "  (1, 46477)\t1\n",
            "  (2, 1092)\t1\n",
            "  (2, 2160)\t1\n",
            "  (2, 7343)\t1\n",
            "  (2, 15312)\t1\n",
            "  (2, 17635)\t1\n",
            "  :\t:\n",
            "  (26, 18010)\t1\n",
            "  (26, 19510)\t1\n",
            "  (26, 19833)\t1\n",
            "  (26, 22302)\t1\n",
            "  (26, 23398)\t1\n",
            "  (26, 24210)\t1\n",
            "  (26, 29775)\t1\n",
            "  (26, 51930)\t1\n",
            "  (27, 16)\t1\n",
            "  (27, 1131)\t1\n",
            "  (27, 1361)\t1\n",
            "  (27, 3576)\t1\n",
            "  (27, 3638)\t1\n",
            "  (27, 5425)\t1\n",
            "  (27, 10217)\t1\n",
            "  (27, 12065)\t1\n",
            "  (27, 14735)\t1\n",
            "  (27, 21864)\t1\n",
            "  (27, 22290)\t1\n",
            "  (27, 22338)\t1\n",
            "  (27, 47253)\t1\n",
            "  (28, 415)\t1\n",
            "  (28, 21864)\t1\n",
            "  (28, 47455)\t1\n",
            "  (29, 50837)\t1\n"
          ]
        }
      ]
    },
    {
      "cell_type": "code",
      "source": [
        "from sklearn.metrics import accuracy_score\n",
        "pre = clf.predict(x_test_count)\n",
        "accuracy_score(y_test, pre)"
      ],
      "metadata": {
        "colab": {
          "base_uri": "https://localhost:8080/"
        },
        "id": "0YLpKdFkN1EG",
        "outputId": "3a5be5e0-1faa-447c-be9f-f8786ed15f8c"
      },
      "execution_count": 49,
      "outputs": [
        {
          "output_type": "execute_result",
          "data": {
            "text/plain": [
              "0.8"
            ]
          },
          "metadata": {},
          "execution_count": 49
        }
      ]
    }
  ]
}