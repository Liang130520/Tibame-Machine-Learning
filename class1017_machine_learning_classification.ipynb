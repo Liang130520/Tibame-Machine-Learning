{
  "nbformat": 4,
  "nbformat_minor": 0,
  "metadata": {
    "colab": {
      "provenance": [],
      "authorship_tag": "ABX9TyPyq6CRBLoCYoJ/Vr6Unf3L",
      "include_colab_link": true
    },
    "kernelspec": {
      "name": "python3",
      "display_name": "Python 3"
    },
    "language_info": {
      "name": "python"
    }
  },
  "cells": [
    {
      "cell_type": "markdown",
      "metadata": {
        "id": "view-in-github",
        "colab_type": "text"
      },
      "source": [
        "<a href=\"https://colab.research.google.com/github/Liang130520/tibaml1017/blob/main/class1017_machine_learning_classification.ipynb\" target=\"_parent\"><img src=\"https://colab.research.google.com/assets/colab-badge.svg\" alt=\"Open In Colab\"/></a>"
      ]
    },
    {
      "cell_type": "code",
      "execution_count": null,
      "metadata": {
        "id": "5U6dd7yf3vnX"
      },
      "outputs": [],
      "source": [
        "import pandas as pd\n",
        "from sklearn.datasets import load_iris\n",
        "\n",
        "iris = load_iris()\n",
        "# iris # 鳶尾花的所有資料\n",
        "df = pd.DataFrame(iris[\"data\"], columns = iris[\"feature_names\"]) # pandas的表個型態\n",
        "df[\"ans\"] = iris[\"target\"]\n",
        "df\n",
        "\n",
        "import numpy as np\n",
        "from sklearn.model_selection import train_test_split\n",
        "\n",
        "x = df.drop(\"ans\", axis = 1) # 去除直欄 \"ans\", 產生一個新表格 x, 原 df 仍有 ans 直欄\n",
        "x = np.array(x)\n",
        "y = np.array(df[\"ans\"])\n",
        "x_train, x_test, y_train, y_test = train_test_split(x, y, test_size = 0.1) # 90% x, 10% x, 90% y, 10% y\n",
        "show = x_test\n",
        "print(show)\n",
        "print(\"-----------------------\")\n",
        "x_train\n",
        "\n",
        "d = pd.DataFrame([\n",
        "        [1, 2],\n",
        "        [3, 4]\n",
        "    ], columns = [\"a\", \"b\"], index = [\"a\", \"b\"])\n",
        "\n",
        "d.drop(\"a\", axis = 0) # b(3, 4) 列 a 被去除, 形成新表格\n",
        "d.drop(\"a\", axis = 1) # b(2, 4) 欄 a 被去除, 形成新表格\n",
        "\n",
        "from sklearn.tree import DecisionTreeClassifier\n",
        "\n",
        "clf = DecisionTreeClassifier(max_depth = 2)\n",
        "clf.fit(x_train, y_train)\n",
        "\n",
        "import matplotlib.pyplot as plt\n",
        "from sklearn.tree import plot_tree\n",
        "plt.figure(figsize = (20, 20)) # 圖片放大, 數值越大, 呈現越大\n",
        "plot_tree(clf, \n",
        "          feature_names = iris[\"feature_names\"], \n",
        "          filled = True, \n",
        "          class_names = iris[\"target_names\"]) "
      ]
    }
  ]
}