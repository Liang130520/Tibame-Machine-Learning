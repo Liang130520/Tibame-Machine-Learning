{
  "nbformat": 4,
  "nbformat_minor": 0,
  "metadata": {
    "colab": {
      "provenance": [],
      "authorship_tag": "ABX9TyNmHN8zmfaAbnAWnD4ezg8N",
      "include_colab_link": true
    },
    "kernelspec": {
      "name": "python3",
      "display_name": "Python 3"
    },
    "language_info": {
      "name": "python"
    }
  },
  "cells": [
    {
      "cell_type": "markdown",
      "metadata": {
        "id": "view-in-github",
        "colab_type": "text"
      },
      "source": [
        "<a href=\"https://colab.research.google.com/github/Liang130520/Tibame-Machine-Learning/blob/main/class1027_machine_learning_tools_3_jieba_%E8%87%AA%E5%AE%9A%E7%BE%A9%E5%AD%97%E5%85%B8.ipynb\" target=\"_parent\"><img src=\"https://colab.research.google.com/assets/colab-badge.svg\" alt=\"Open In Colab\"/></a>"
      ]
    },
    {
      "cell_type": "code",
      "execution_count": null,
      "metadata": {
        "colab": {
          "base_uri": "https://localhost:8080/"
        },
        "id": "QyWnrLQxxWRW",
        "outputId": "d761184b-c921-4d6f-af2d-48074df5e11c"
      },
      "outputs": [
        {
          "output_type": "stream",
          "name": "stdout",
          "text": [
            "Looking in indexes: https://pypi.org/simple, https://us-python.pkg.dev/colab-wheels/public/simple/\n",
            "Collecting opencc-python-reimplemented\n",
            "  Downloading opencc-python-reimplemented-0.1.6.tar.gz (484 kB)\n",
            "\u001b[K     |████████████████████████████████| 484 kB 5.2 MB/s \n",
            "\u001b[?25hBuilding wheels for collected packages: opencc-python-reimplemented\n",
            "  Building wheel for opencc-python-reimplemented (setup.py) ... \u001b[?25l\u001b[?25hdone\n",
            "  Created wheel for opencc-python-reimplemented: filename=opencc_python_reimplemented-0.1.6-py2.py3-none-any.whl size=486152 sha256=5f38f09ba3ac68b9aba57c61ce32b08a296b16e463cb49d3e91c0e0d62e7106d\n",
            "  Stored in directory: /root/.cache/pip/wheels/4e/e2/60/d062d260be08788bb389521544a8fc173de9a9a78d6a593344\n",
            "Successfully built opencc-python-reimplemented\n",
            "Installing collected packages: opencc-python-reimplemented\n",
            "Successfully installed opencc-python-reimplemented-0.1.6\n"
          ]
        }
      ],
      "source": [
        "!pip install opencc-python-reimplemented"
      ]
    },
    {
      "cell_type": "code",
      "source": [
        "from opencc import OpenCC\n",
        "cc = OpenCC(\"s2tw\")  # convert from Simplified Chinese to Traditional Chinese\n",
        "to_convert = \"\"\"繁体中文。\n",
        "为什么会觉得烦呢？也许让我们学写繁体中文的话，我们可能会烦。\n",
        "主要看所处的环境。\n",
        "如果楼主从一出生就学的是繁体中文的话，现在让你学写简体中文，你也会烦的。如果一个英语为母语的国家，让他们的人民学中文，不管是繁体还是简体都会烦。\n",
        "要你用你的纯母语来书写，应该是最顺手的吧\"\"\"\n",
        "converted = cc.convert(to_convert)\n",
        "converted"
      ],
      "metadata": {
        "colab": {
          "base_uri": "https://localhost:8080/",
          "height": 88
        },
        "id": "4s5tHHLZx5MQ",
        "outputId": "9ed83751-512d-4ff6-e6bc-4caf55248302"
      },
      "execution_count": null,
      "outputs": [
        {
          "output_type": "execute_result",
          "data": {
            "text/plain": [
              "'繁體中文。\\n為什麼會覺得煩呢？也許讓我們學寫繁體中文的話，我們可能會煩。\\n主要看所處的環境。\\n如果樓主從一出生就學的是繁體中文的話，現在讓你學寫簡體中文，你也會煩的。如果一個英語為母語的國家，讓他們的人民學中文，不管是繁體還是簡體都會煩。\\n要你用你的純母語來書寫，應該是最順手的吧'"
            ],
            "application/vnd.google.colaboratory.intrinsic+json": {
              "type": "string"
            }
          },
          "metadata": {},
          "execution_count": 2
        }
      ]
    },
    {
      "cell_type": "code",
      "source": [
        "import jieba\n",
        "\n",
        "with open(\"文章.txt\", \"r\", encoding = \"utf-8\") as f:\n",
        "  news = f.read()\n",
        "\n",
        "\" \".join(jieba.cut(news))"
      ],
      "metadata": {
        "colab": {
          "base_uri": "https://localhost:8080/",
          "height": 232
        },
        "id": "DNuylc1L4zLC",
        "outputId": "d43b5d7a-9d83-4f4a-af8e-7558f3497857"
      },
      "execution_count": 7,
      "outputs": [
        {
          "output_type": "execute_result",
          "data": {
            "text/plain": [
              "'今 （ 1 日 ） 第 22 號 颱 風外圍 環流 及 東北季 風影響 ， 北部 及東 北部 天氣 較 涼 ， 其他 地區 早晚 亦 涼 ； 台灣東 北部 、 大台北 地區 及 基隆 北海岸 有陣雨 ， 基隆 北海岸 、 東 北部 地區 及 大台北 山區 仍 有 局部 大雨 或 豪雨 發生 的 機率 ， 其他 地區 及 澎湖 、 金門 、 馬 祖有 局部 短 暫陣雨 。 \\n \\n 中央 氣象 局針 對 7 縣市 發布 大雨 特報 。 （ 示意 圖 。 圖片 來源 ： 中央社 ） \\n \\n 東北 季風 及第 22 號 颱 風外圍 環流 影響 ， 易有 短延 時強 降雨 ， 蘭嶼 已有 大 豪雨 發生 ； 今日 大台北 、 東 半部 （ 含蘭嶼 、 綠島 ） 地區 及 恆春半島 有 局部 大雨 發生 的 機率 ； 連日 降雨 ， 山區 請 注意 坍方 及 落石 。 \\n \\n 大雨 特報 ： 基隆市 、 台北市 、 新北市 、 屏東縣 、 宜蘭縣 、 花蓮縣 、 台東縣 \\n \\n 中央 氣象 局針 對 7 縣市 發布 大雨 特報 。 （ 圖片 來源 ： 中央 氣象局 ） \\n \\n 吳德榮 在 「 三立 準氣象 ·   老大 洩天機 」 指出 ， 最新 （ 1 日 2 時 ） 中央 氣象局 「 路徑 潛勢 預測 圖 」 顯示 ， 「 輕 颱 奈格 」 在 呂 宋島 西方 海面 轉北略 增強 ， 未來 再轉 偏西 、 減弱 遠離 ， 「 共伴 效應 」 亦 將逐漸 減弱 ； 另 一 23 號 「 輕 颱 榕樹 」 在 菲律賓 東方 海面 ， 壽命 短 ， 對台 無 影響 ， 但 使 今年 「 西北 太平洋 」 颱 風 生成 總數 接近 氣候 平均值 。'"
            ],
            "application/vnd.google.colaboratory.intrinsic+json": {
              "type": "string"
            }
          },
          "metadata": {},
          "execution_count": 7
        }
      ]
    },
    {
      "cell_type": "code",
      "source": [
        "import jieba\n",
        "from urllib.request import urlretrieve\n",
        "\n",
        "url = \"https://github.com/fxsjy/jieba/raw/master/extra_dict/dict.txt.big\"\n",
        "urlretrieve(url, \"dict.big\")\n",
        "jieba.set_dictionary(\"dict.big\")\n",
        "\n",
        "jieba.load_userdict(\"dict.my\")\n",
        "# jieba.load_userdict(\"dict.myB\")\n",
        "\n",
        "\n",
        "with open(\"文章.txt\", \"r\", encoding = \"utf-8\") as f:\n",
        "  news = f.read()\n",
        "\n",
        "\" \".join(jieba.cut(news))"
      ],
      "metadata": {
        "colab": {
          "base_uri": "https://localhost:8080/",
          "height": 374
        },
        "id": "2S2L0MuA9LwF",
        "outputId": "c6618f7f-05ae-4147-d7b1-4fa9a3744bf3"
      },
      "execution_count": 10,
      "outputs": [
        {
          "output_type": "stream",
          "name": "stderr",
          "text": [
            "Building prefix dict from /content/dict.big ...\n",
            "DEBUG:jieba:Building prefix dict from /content/dict.big ...\n",
            "Dumping model to file cache /tmp/jieba.u07306b11e64fa1786267fcd71f361dde.cache\n",
            "DEBUG:jieba:Dumping model to file cache /tmp/jieba.u07306b11e64fa1786267fcd71f361dde.cache\n",
            "Loading model cost 1.867 seconds.\n",
            "DEBUG:jieba:Loading model cost 1.867 seconds.\n",
            "Prefix dict has been built successfully.\n",
            "DEBUG:jieba:Prefix dict has been built successfully.\n"
          ]
        },
        {
          "output_type": "execute_result",
          "data": {
            "text/plain": [
              "'今 （ 1 日 ） 第 22 號 颱風 外圍 環流 及 東北 季風 影響 ， 北部 及 東北部 天氣 較涼 ， 其他 地區 早晚 亦 涼 ； 台灣 東北部 、 大台北 地區 及 基隆 北海岸 有 陣雨 ， 基隆 北海岸 、 東北部 地區 及 大台北 山區 仍 有 局部 大雨 或 豪雨 發生 的 機率 ， 其他 地區 及 澎湖 、 金門 、 馬祖 有 局部 短暫 陣雨 。 \\n \\n 中央氣象局 針對 7 縣市 發布 大雨 特報 。 （ 示意圖 。 圖片 來源 ： 中央社 ） \\n \\n 東北 季風 及第 22 號 颱風 外圍 環流 影響 ， 易有 短 延時 強降雨 ， 蘭嶼 已有 大 豪雨 發生 ； 今日 大台北 、 東半 部 （ 含 蘭嶼 、 綠島 ） 地區 及 恆春 半島 有 局部 大雨 發生 的 機率 ； 連日 降雨 ， 山區 請 注意 坍方 及 落石 。 \\n \\n 大雨 特報 ： 基隆市 、 台北市 、 新北市 、 屏東縣 、 宜蘭縣 、 花蓮縣 、 台 東縣 \\n \\n 中央氣象局 針對 7 縣市 發布 大雨 特報 。 （ 圖片 來源 ： 中央氣象局 ） \\n \\n 吳德榮 在 「 三立準 氣象 ·   老大 洩 天機 」 指出 ， 最新 （ 1 日 2 時 ） 中央氣象局 「 路徑 潛勢 預測 圖 」 顯示 ， 「 輕 颱 奈格 」 在 呂宋島 西方 海面 轉北略 增強 ， 未來 再轉 偏西 、 減弱 遠離 ， 「 共伴 效應 」 亦將 逐漸 減弱 ； 另 一 23 號 「 輕 颱 榕樹 」 在 菲律賓 東方 海面 ， 壽命短 ， 對台 無 影響 ， 但 使 今年 「 西北 太平洋 」 颱風 生成 總數 接近 氣候 平均值 。'"
            ],
            "application/vnd.google.colaboratory.intrinsic+json": {
              "type": "string"
            }
          },
          "metadata": {},
          "execution_count": 10
        }
      ]
    }
  ]
}