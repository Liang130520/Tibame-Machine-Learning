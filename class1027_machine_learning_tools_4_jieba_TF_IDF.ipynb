{
  "nbformat": 4,
  "nbformat_minor": 0,
  "metadata": {
    "colab": {
      "provenance": [],
      "authorship_tag": "ABX9TyPtCzVo4QtupA201qrA75JW",
      "include_colab_link": true
    },
    "kernelspec": {
      "name": "python3",
      "display_name": "Python 3"
    },
    "language_info": {
      "name": "python"
    }
  },
  "cells": [
    {
      "cell_type": "markdown",
      "metadata": {
        "id": "view-in-github",
        "colab_type": "text"
      },
      "source": [
        "<a href=\"https://colab.research.google.com/github/Liang130520/Tibame-Machine-Learning/blob/main/class1027_machine_learning_tools_4_jieba_TF_IDF.ipynb\" target=\"_parent\"><img src=\"https://colab.research.google.com/assets/colab-badge.svg\" alt=\"Open In Colab\"/></a>"
      ]
    },
    {
      "cell_type": "code",
      "execution_count": null,
      "metadata": {
        "id": "QyWnrLQxxWRW"
      },
      "outputs": [],
      "source": [
        "!pip install opencc-python-reimplemented"
      ]
    },
    {
      "cell_type": "code",
      "source": [
        "from opencc import OpenCC\n",
        "cc = OpenCC(\"s2tw\")  # convert from Simplified Chinese to Traditional Chinese\n",
        "to_convert = \"\"\"繁体中文。\n",
        "为什么会觉得烦呢？也许让我们学写繁体中文的话，我们可能会烦。\n",
        "主要看所处的环境。\n",
        "如果楼主从一出生就学的是繁体中文的话，现在让你学写简体中文，你也会烦的。如果一个英语为母语的国家，让他们的人民学中文，不管是繁体还是简体都会烦。\n",
        "要你用你的纯母语来书写，应该是最顺手的吧\"\"\"\n",
        "converted = cc.convert(to_convert)\n",
        "converted"
      ],
      "metadata": {
        "id": "4s5tHHLZx5MQ"
      },
      "execution_count": null,
      "outputs": []
    },
    {
      "cell_type": "code",
      "source": [
        "import jieba\n",
        "\n",
        "with open(\"文章.txt\", \"r\", encoding = \"utf-8\") as f:\n",
        "  news = f.read()\n",
        "\n",
        "\" \".join(jieba.cut(news))"
      ],
      "metadata": {
        "id": "DNuylc1L4zLC"
      },
      "execution_count": null,
      "outputs": []
    },
    {
      "cell_type": "code",
      "source": [
        "import jieba\n",
        "from urllib.request import urlretrieve\n",
        "\n",
        "url = \"https://github.com/fxsjy/jieba/raw/master/extra_dict/dict.txt.big\"\n",
        "urlretrieve(url, \"dict.big\")\n",
        "jieba.set_dictionary(\"dict.big\")\n",
        "\n",
        "jieba.load_userdict(\"dict.my\")\n",
        "# jieba.load_userdict(\"dict.myB\")\n",
        "\n",
        "\n",
        "with open(\"文章.txt\", \"r\", encoding = \"utf-8\") as f:\n",
        "  news = f.read()\n",
        "\n",
        "\" \".join(jieba.cut(news))"
      ],
      "metadata": {
        "colab": {
          "base_uri": "https://localhost:8080/",
          "height": 374
        },
        "id": "2S2L0MuA9LwF",
        "outputId": "c6618f7f-05ae-4147-d7b1-4fa9a3744bf3"
      },
      "execution_count": 10,
      "outputs": [
        {
          "output_type": "stream",
          "name": "stderr",
          "text": [
            "Building prefix dict from /content/dict.big ...\n",
            "DEBUG:jieba:Building prefix dict from /content/dict.big ...\n",
            "Dumping model to file cache /tmp/jieba.u07306b11e64fa1786267fcd71f361dde.cache\n",
            "DEBUG:jieba:Dumping model to file cache /tmp/jieba.u07306b11e64fa1786267fcd71f361dde.cache\n",
            "Loading model cost 1.867 seconds.\n",
            "DEBUG:jieba:Loading model cost 1.867 seconds.\n",
            "Prefix dict has been built successfully.\n",
            "DEBUG:jieba:Prefix dict has been built successfully.\n"
          ]
        },
        {
          "output_type": "execute_result",
          "data": {
            "text/plain": [
              "'今 （ 1 日 ） 第 22 號 颱風 外圍 環流 及 東北 季風 影響 ， 北部 及 東北部 天氣 較涼 ， 其他 地區 早晚 亦 涼 ； 台灣 東北部 、 大台北 地區 及 基隆 北海岸 有 陣雨 ， 基隆 北海岸 、 東北部 地區 及 大台北 山區 仍 有 局部 大雨 或 豪雨 發生 的 機率 ， 其他 地區 及 澎湖 、 金門 、 馬祖 有 局部 短暫 陣雨 。 \\n \\n 中央氣象局 針對 7 縣市 發布 大雨 特報 。 （ 示意圖 。 圖片 來源 ： 中央社 ） \\n \\n 東北 季風 及第 22 號 颱風 外圍 環流 影響 ， 易有 短 延時 強降雨 ， 蘭嶼 已有 大 豪雨 發生 ； 今日 大台北 、 東半 部 （ 含 蘭嶼 、 綠島 ） 地區 及 恆春 半島 有 局部 大雨 發生 的 機率 ； 連日 降雨 ， 山區 請 注意 坍方 及 落石 。 \\n \\n 大雨 特報 ： 基隆市 、 台北市 、 新北市 、 屏東縣 、 宜蘭縣 、 花蓮縣 、 台 東縣 \\n \\n 中央氣象局 針對 7 縣市 發布 大雨 特報 。 （ 圖片 來源 ： 中央氣象局 ） \\n \\n 吳德榮 在 「 三立準 氣象 ·   老大 洩 天機 」 指出 ， 最新 （ 1 日 2 時 ） 中央氣象局 「 路徑 潛勢 預測 圖 」 顯示 ， 「 輕 颱 奈格 」 在 呂宋島 西方 海面 轉北略 增強 ， 未來 再轉 偏西 、 減弱 遠離 ， 「 共伴 效應 」 亦將 逐漸 減弱 ； 另 一 23 號 「 輕 颱 榕樹 」 在 菲律賓 東方 海面 ， 壽命短 ， 對台 無 影響 ， 但 使 今年 「 西北 太平洋 」 颱風 生成 總數 接近 氣候 平均值 。'"
            ],
            "application/vnd.google.colaboratory.intrinsic+json": {
              "type": "string"
            }
          },
          "metadata": {},
          "execution_count": 10
        }
      ]
    },
    {
      "cell_type": "code",
      "source": [
        "\" TF-IDF \"\n",
        "# 抓出關鍵字, 1.次數越\"高\", 重要性越\"高\", 2.常用度越\"低\", 重要性越\"高\"\n",
        "# -> 重要性 = 次數(TF) * (1/常用度) (IDF) \n",
        "# --> 可轉換成 logab = loga +logb\n",
        "# IDF: 有\"牛排\"的文章 / total文章\n",
        "\n",
        "\"\"\"\n",
        "jieba.analyse.extract_tags(sentence, topK=20, withWeight=False, allowPOS=())\n",
        "\n",
        "    sentence 為待提取的文本\n",
        "    topK 為返回最重要前20的关键詞，默認值為 20, 若要所有詞依照重要性排列 topK = None\n",
        "    withWeight 為返回關鍵詞權重，默認值為 False, 要呈現, 輸入 True\n",
        "    allowPOS 只呈現指定詞性的詞，默認值為空，即不篩選, 可在[]內以 , 分隔不同詞性, 最後呈現該幾種詞性的詞\n",
        "\"\"\"\n",
        "import jieba.analyse\n",
        "\n",
        "jieba.analyse.extract_tags(news)\n",
        "# # None:所有詞\n",
        "# jieba.analyse.extract_tags(news, topK=None)\n",
        "jieba.analyse.extract_tags(news, topK=None, withWeight=True)\n",
        "# jieba.analyse.extract_tags(news,allowPOS = [\"nr\"])\n",
        "# jieba.analyse.extract_tags(news,allowPOS = [\"ns\"])\n",
        "# jieba.analyse.extract_tags(news, allowPOS=[\"nr\", \"ns\"])\n"
      ],
      "metadata": {
        "colab": {
          "base_uri": "https://localhost:8080/"
        },
        "id": "H5h9c8cfIhZQ",
        "outputId": "29afff4a-575e-4b11-a8a6-ad0964c7975d"
      },
      "execution_count": 27,
      "outputs": [
        {
          "output_type": "execute_result",
          "data": {
            "text/plain": [
              "[('地區', 0.409409845989726),\n",
              " ('中央氣象局', 0.3275278767917808),\n",
              " ('大雨', 0.28668659467328766),\n",
              " ('颱風', 0.2456459075938356),\n",
              " ('影響', 0.2456459075938356),\n",
              " ('東北部', 0.2456459075938356),\n",
              " ('大台北', 0.2456459075938356),\n",
              " ('發生', 0.2456459075938356),\n",
              " ('特報', 0.2456459075938356),\n",
              " ('北海岸', 0.16837314711643836),\n",
              " ('22', 0.1637639383958904),\n",
              " ('外圍', 0.1637639383958904),\n",
              " ('環流', 0.1637639383958904),\n",
              " ('東北', 0.1637639383958904),\n",
              " ('季風', 0.1637639383958904),\n",
              " ('陣雨', 0.1637639383958904),\n",
              " ('山區', 0.1637639383958904),\n",
              " ('豪雨', 0.1637639383958904),\n",
              " ('機率', 0.1637639383958904),\n",
              " ('針對', 0.1637639383958904),\n",
              " ('縣市', 0.1637639383958904),\n",
              " ('發布', 0.1637639383958904),\n",
              " ('圖片', 0.1637639383958904),\n",
              " ('來源', 0.1637639383958904),\n",
              " ('蘭嶼', 0.1637639383958904),\n",
              " ('減弱', 0.1637639383958904),\n",
              " ('局部', 0.1369680664039726),\n",
              " ('基隆', 0.12924341826465754),\n",
              " ('海面', 0.10405792944589042),\n",
              " ('坍方', 0.09521012090410959),\n",
              " ('天氣', 0.0818819691979452),\n",
              " ('較涼', 0.0818819691979452),\n",
              " ('台灣', 0.0818819691979452),\n",
              " ('金門', 0.0818819691979452),\n",
              " ('馬祖', 0.0818819691979452),\n",
              " ('短暫', 0.0818819691979452),\n",
              " ('示意圖', 0.0818819691979452),\n",
              " ('易有', 0.0818819691979452),\n",
              " ('延時', 0.0818819691979452),\n",
              " ('強降雨', 0.0818819691979452),\n",
              " ('東半', 0.0818819691979452),\n",
              " ('綠島', 0.0818819691979452),\n",
              " ('恆春', 0.0818819691979452),\n",
              " ('半島', 0.0818819691979452),\n",
              " ('連日', 0.0818819691979452),\n",
              " ('新北市', 0.0818819691979452),\n",
              " ('屏東縣', 0.0818819691979452),\n",
              " ('宜蘭縣', 0.0818819691979452),\n",
              " ('花蓮縣', 0.0818819691979452),\n",
              " ('東縣', 0.0818819691979452),\n",
              " ('吳德榮', 0.0818819691979452),\n",
              " ('三立準', 0.0818819691979452),\n",
              " ('氣象', 0.0818819691979452),\n",
              " ('天機', 0.0818819691979452),\n",
              " ('路徑', 0.0818819691979452),\n",
              " ('潛勢', 0.0818819691979452),\n",
              " ('預測', 0.0818819691979452),\n",
              " ('顯示', 0.0818819691979452),\n",
              " ('奈格', 0.0818819691979452),\n",
              " ('呂宋島', 0.0818819691979452),\n",
              " ('轉北略', 0.0818819691979452),\n",
              " ('增強', 0.0818819691979452),\n",
              " ('未來', 0.0818819691979452),\n",
              " ('再轉', 0.0818819691979452),\n",
              " ('遠離', 0.0818819691979452),\n",
              " ('共伴', 0.0818819691979452),\n",
              " ('效應', 0.0818819691979452),\n",
              " ('亦將', 0.0818819691979452),\n",
              " ('逐漸', 0.0818819691979452),\n",
              " ('23', 0.0818819691979452),\n",
              " ('榕樹', 0.0818819691979452),\n",
              " ('菲律賓', 0.0818819691979452),\n",
              " ('東方', 0.0818819691979452),\n",
              " ('壽命短', 0.0818819691979452),\n",
              " ('對台', 0.0818819691979452),\n",
              " ('總數', 0.0818819691979452),\n",
              " ('氣候', 0.0818819691979452),\n",
              " ('基隆市', 0.07764197461986302),\n",
              " ('落石', 0.07580455005410959),\n",
              " ('中央社', 0.07403859725068493),\n",
              " ('澎湖', 0.06683248579164383),\n",
              " ('及第', 0.06651385554760274),\n",
              " ('台北市', 0.06630938319726028),\n",
              " ('偏西', 0.06301504990534247),\n",
              " ('降雨', 0.06057830031938356),\n",
              " ('其他', 0.05846955203178082),\n",
              " ('平均值', 0.058236403770273976),\n",
              " ('老大', 0.05392054199828767),\n",
              " ('早晚', 0.051831493313972604),\n",
              " ('太平洋', 0.04672832926315068),\n",
              " ('生成', 0.046473257025958906),\n",
              " ('最新', 0.04136267516541096),\n",
              " ('已有', 0.04044082479575342),\n",
              " ('西北', 0.04041320655239726),\n",
              " ('北部', 0.04035830192917808),\n",
              " ('西方', 0.0397796344139726),\n",
              " ('接近', 0.039153718341643835),\n",
              " ('注意', 0.03654291704308219),\n",
              " ('指出', 0.034804491742465755),\n",
              " ('今日', 0.034172244590684936),\n",
              " ('今年', 0.029659507091917805)]"
            ]
          },
          "metadata": {},
          "execution_count": 27
        }
      ]
    }
  ]
}