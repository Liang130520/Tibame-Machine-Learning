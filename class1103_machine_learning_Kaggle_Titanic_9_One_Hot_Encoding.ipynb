{
  "nbformat": 4,
  "nbformat_minor": 0,
  "metadata": {
    "colab": {
      "provenance": [],
      "authorship_tag": "ABX9TyM89lS5KlLI4U5PMgcrcCs7",
      "include_colab_link": true
    },
    "kernelspec": {
      "name": "python3",
      "display_name": "Python 3"
    },
    "language_info": {
      "name": "python"
    }
  },
  "cells": [
    {
      "cell_type": "markdown",
      "metadata": {
        "id": "view-in-github",
        "colab_type": "text"
      },
      "source": [
        "<a href=\"https://colab.research.google.com/github/Liang130520/Tibame-Machine-Learning/blob/main/class1103_machine_learning_Kaggle_Titanic_9_One_Hot_Encoding.ipynb\" target=\"_parent\"><img src=\"https://colab.research.google.com/assets/colab-badge.svg\" alt=\"Open In Colab\"/></a>"
      ]
    },
    {
      "cell_type": "code",
      "execution_count": null,
      "metadata": {
        "id": "TAkviogxD2iz"
      },
      "outputs": [],
      "source": [
        "\" Kaggle \"\n",
        "from urllib.request import urlretrieve\n",
        "\n",
        "url = \"https://github.com/Elwing-Chou/tibaml1017/raw/main/titanic/train.csv\"\n",
        "urlretrieve(url, \"train.csv\")\n",
        "\n",
        "url = \"https://github.com/Elwing-Chou/tibaml1017/raw/main/titanic/test.csv\"\n",
        "urlretrieve(url, \"test.csv\")"
      ]
    },
    {
      "cell_type": "code",
      "source": [
        "import pandas as pd\n",
        "\n",
        "datas = pd.read_csv(\"train.csv\", encoding = \"utf-8\")\n",
        "predicts = pd.read_csv(\"test.csv\", encoding = \"utf-8\")\n"
      ],
      "metadata": {
        "id": "Q-eVtCBLEHIj"
      },
      "execution_count": null,
      "outputs": []
    },
    {
      "cell_type": "code",
      "source": [
        "predicts"
      ],
      "metadata": {
        "id": "4BEsWae5EIO6"
      },
      "execution_count": null,
      "outputs": []
    },
    {
      "cell_type": "code",
      "source": [
        "combine = pd.concat([datas, predicts], axis = 0, ignore_index = True) # 重設 預設ID\n",
        "combine = combine.drop([\"PassengerId\", \"Survived\"], axis = 1) # 建立去除此兩欄的新表\n",
        "combine"
      ],
      "metadata": {
        "colab": {
          "base_uri": "https://localhost:8080/",
          "height": 815
        },
        "id": "SgUhWmIKEKkg",
        "outputId": "406bf9a1-3ae6-45af-efe1-ec111861cfcf"
      },
      "execution_count": null,
      "outputs": [
        {
          "output_type": "execute_result",
          "data": {
            "text/plain": [
              "      Pclass                                               Name     Sex   Age  \\\n",
              "0          3                            Braund, Mr. Owen Harris    male  22.0   \n",
              "1          1  Cumings, Mrs. John Bradley (Florence Briggs Th...  female  38.0   \n",
              "2          3                             Heikkinen, Miss. Laina  female  26.0   \n",
              "3          1       Futrelle, Mrs. Jacques Heath (Lily May Peel)  female  35.0   \n",
              "4          3                           Allen, Mr. William Henry    male  35.0   \n",
              "...      ...                                                ...     ...   ...   \n",
              "1304       3                                 Spector, Mr. Woolf    male   NaN   \n",
              "1305       1                       Oliva y Ocana, Dona. Fermina  female  39.0   \n",
              "1306       3                       Saether, Mr. Simon Sivertsen    male  38.5   \n",
              "1307       3                                Ware, Mr. Frederick    male   NaN   \n",
              "1308       3                           Peter, Master. Michael J    male   NaN   \n",
              "\n",
              "      SibSp  Parch              Ticket      Fare Cabin Embarked  \n",
              "0         1      0           A/5 21171    7.2500   NaN        S  \n",
              "1         1      0            PC 17599   71.2833   C85        C  \n",
              "2         0      0    STON/O2. 3101282    7.9250   NaN        S  \n",
              "3         1      0              113803   53.1000  C123        S  \n",
              "4         0      0              373450    8.0500   NaN        S  \n",
              "...     ...    ...                 ...       ...   ...      ...  \n",
              "1304      0      0           A.5. 3236    8.0500   NaN        S  \n",
              "1305      0      0            PC 17758  108.9000  C105        C  \n",
              "1306      0      0  SOTON/O.Q. 3101262    7.2500   NaN        S  \n",
              "1307      0      0              359309    8.0500   NaN        S  \n",
              "1308      1      1                2668   22.3583   NaN        C  \n",
              "\n",
              "[1309 rows x 10 columns]"
            ],
            "text/html": [
              "\n",
              "  <div id=\"df-bf5e8e8f-f593-46a0-a7db-4404e7cede57\">\n",
              "    <div class=\"colab-df-container\">\n",
              "      <div>\n",
              "<style scoped>\n",
              "    .dataframe tbody tr th:only-of-type {\n",
              "        vertical-align: middle;\n",
              "    }\n",
              "\n",
              "    .dataframe tbody tr th {\n",
              "        vertical-align: top;\n",
              "    }\n",
              "\n",
              "    .dataframe thead th {\n",
              "        text-align: right;\n",
              "    }\n",
              "</style>\n",
              "<table border=\"1\" class=\"dataframe\">\n",
              "  <thead>\n",
              "    <tr style=\"text-align: right;\">\n",
              "      <th></th>\n",
              "      <th>Pclass</th>\n",
              "      <th>Name</th>\n",
              "      <th>Sex</th>\n",
              "      <th>Age</th>\n",
              "      <th>SibSp</th>\n",
              "      <th>Parch</th>\n",
              "      <th>Ticket</th>\n",
              "      <th>Fare</th>\n",
              "      <th>Cabin</th>\n",
              "      <th>Embarked</th>\n",
              "    </tr>\n",
              "  </thead>\n",
              "  <tbody>\n",
              "    <tr>\n",
              "      <th>0</th>\n",
              "      <td>3</td>\n",
              "      <td>Braund, Mr. Owen Harris</td>\n",
              "      <td>male</td>\n",
              "      <td>22.0</td>\n",
              "      <td>1</td>\n",
              "      <td>0</td>\n",
              "      <td>A/5 21171</td>\n",
              "      <td>7.2500</td>\n",
              "      <td>NaN</td>\n",
              "      <td>S</td>\n",
              "    </tr>\n",
              "    <tr>\n",
              "      <th>1</th>\n",
              "      <td>1</td>\n",
              "      <td>Cumings, Mrs. John Bradley (Florence Briggs Th...</td>\n",
              "      <td>female</td>\n",
              "      <td>38.0</td>\n",
              "      <td>1</td>\n",
              "      <td>0</td>\n",
              "      <td>PC 17599</td>\n",
              "      <td>71.2833</td>\n",
              "      <td>C85</td>\n",
              "      <td>C</td>\n",
              "    </tr>\n",
              "    <tr>\n",
              "      <th>2</th>\n",
              "      <td>3</td>\n",
              "      <td>Heikkinen, Miss. Laina</td>\n",
              "      <td>female</td>\n",
              "      <td>26.0</td>\n",
              "      <td>0</td>\n",
              "      <td>0</td>\n",
              "      <td>STON/O2. 3101282</td>\n",
              "      <td>7.9250</td>\n",
              "      <td>NaN</td>\n",
              "      <td>S</td>\n",
              "    </tr>\n",
              "    <tr>\n",
              "      <th>3</th>\n",
              "      <td>1</td>\n",
              "      <td>Futrelle, Mrs. Jacques Heath (Lily May Peel)</td>\n",
              "      <td>female</td>\n",
              "      <td>35.0</td>\n",
              "      <td>1</td>\n",
              "      <td>0</td>\n",
              "      <td>113803</td>\n",
              "      <td>53.1000</td>\n",
              "      <td>C123</td>\n",
              "      <td>S</td>\n",
              "    </tr>\n",
              "    <tr>\n",
              "      <th>4</th>\n",
              "      <td>3</td>\n",
              "      <td>Allen, Mr. William Henry</td>\n",
              "      <td>male</td>\n",
              "      <td>35.0</td>\n",
              "      <td>0</td>\n",
              "      <td>0</td>\n",
              "      <td>373450</td>\n",
              "      <td>8.0500</td>\n",
              "      <td>NaN</td>\n",
              "      <td>S</td>\n",
              "    </tr>\n",
              "    <tr>\n",
              "      <th>...</th>\n",
              "      <td>...</td>\n",
              "      <td>...</td>\n",
              "      <td>...</td>\n",
              "      <td>...</td>\n",
              "      <td>...</td>\n",
              "      <td>...</td>\n",
              "      <td>...</td>\n",
              "      <td>...</td>\n",
              "      <td>...</td>\n",
              "      <td>...</td>\n",
              "    </tr>\n",
              "    <tr>\n",
              "      <th>1304</th>\n",
              "      <td>3</td>\n",
              "      <td>Spector, Mr. Woolf</td>\n",
              "      <td>male</td>\n",
              "      <td>NaN</td>\n",
              "      <td>0</td>\n",
              "      <td>0</td>\n",
              "      <td>A.5. 3236</td>\n",
              "      <td>8.0500</td>\n",
              "      <td>NaN</td>\n",
              "      <td>S</td>\n",
              "    </tr>\n",
              "    <tr>\n",
              "      <th>1305</th>\n",
              "      <td>1</td>\n",
              "      <td>Oliva y Ocana, Dona. Fermina</td>\n",
              "      <td>female</td>\n",
              "      <td>39.0</td>\n",
              "      <td>0</td>\n",
              "      <td>0</td>\n",
              "      <td>PC 17758</td>\n",
              "      <td>108.9000</td>\n",
              "      <td>C105</td>\n",
              "      <td>C</td>\n",
              "    </tr>\n",
              "    <tr>\n",
              "      <th>1306</th>\n",
              "      <td>3</td>\n",
              "      <td>Saether, Mr. Simon Sivertsen</td>\n",
              "      <td>male</td>\n",
              "      <td>38.5</td>\n",
              "      <td>0</td>\n",
              "      <td>0</td>\n",
              "      <td>SOTON/O.Q. 3101262</td>\n",
              "      <td>7.2500</td>\n",
              "      <td>NaN</td>\n",
              "      <td>S</td>\n",
              "    </tr>\n",
              "    <tr>\n",
              "      <th>1307</th>\n",
              "      <td>3</td>\n",
              "      <td>Ware, Mr. Frederick</td>\n",
              "      <td>male</td>\n",
              "      <td>NaN</td>\n",
              "      <td>0</td>\n",
              "      <td>0</td>\n",
              "      <td>359309</td>\n",
              "      <td>8.0500</td>\n",
              "      <td>NaN</td>\n",
              "      <td>S</td>\n",
              "    </tr>\n",
              "    <tr>\n",
              "      <th>1308</th>\n",
              "      <td>3</td>\n",
              "      <td>Peter, Master. Michael J</td>\n",
              "      <td>male</td>\n",
              "      <td>NaN</td>\n",
              "      <td>1</td>\n",
              "      <td>1</td>\n",
              "      <td>2668</td>\n",
              "      <td>22.3583</td>\n",
              "      <td>NaN</td>\n",
              "      <td>C</td>\n",
              "    </tr>\n",
              "  </tbody>\n",
              "</table>\n",
              "<p>1309 rows × 10 columns</p>\n",
              "</div>\n",
              "      <button class=\"colab-df-convert\" onclick=\"convertToInteractive('df-bf5e8e8f-f593-46a0-a7db-4404e7cede57')\"\n",
              "              title=\"Convert this dataframe to an interactive table.\"\n",
              "              style=\"display:none;\">\n",
              "        \n",
              "  <svg xmlns=\"http://www.w3.org/2000/svg\" height=\"24px\"viewBox=\"0 0 24 24\"\n",
              "       width=\"24px\">\n",
              "    <path d=\"M0 0h24v24H0V0z\" fill=\"none\"/>\n",
              "    <path d=\"M18.56 5.44l.94 2.06.94-2.06 2.06-.94-2.06-.94-.94-2.06-.94 2.06-2.06.94zm-11 1L8.5 8.5l.94-2.06 2.06-.94-2.06-.94L8.5 2.5l-.94 2.06-2.06.94zm10 10l.94 2.06.94-2.06 2.06-.94-2.06-.94-.94-2.06-.94 2.06-2.06.94z\"/><path d=\"M17.41 7.96l-1.37-1.37c-.4-.4-.92-.59-1.43-.59-.52 0-1.04.2-1.43.59L10.3 9.45l-7.72 7.72c-.78.78-.78 2.05 0 2.83L4 21.41c.39.39.9.59 1.41.59.51 0 1.02-.2 1.41-.59l7.78-7.78 2.81-2.81c.8-.78.8-2.07 0-2.86zM5.41 20L4 18.59l7.72-7.72 1.47 1.35L5.41 20z\"/>\n",
              "  </svg>\n",
              "      </button>\n",
              "      \n",
              "  <style>\n",
              "    .colab-df-container {\n",
              "      display:flex;\n",
              "      flex-wrap:wrap;\n",
              "      gap: 12px;\n",
              "    }\n",
              "\n",
              "    .colab-df-convert {\n",
              "      background-color: #E8F0FE;\n",
              "      border: none;\n",
              "      border-radius: 50%;\n",
              "      cursor: pointer;\n",
              "      display: none;\n",
              "      fill: #1967D2;\n",
              "      height: 32px;\n",
              "      padding: 0 0 0 0;\n",
              "      width: 32px;\n",
              "    }\n",
              "\n",
              "    .colab-df-convert:hover {\n",
              "      background-color: #E2EBFA;\n",
              "      box-shadow: 0px 1px 2px rgba(60, 64, 67, 0.3), 0px 1px 3px 1px rgba(60, 64, 67, 0.15);\n",
              "      fill: #174EA6;\n",
              "    }\n",
              "\n",
              "    [theme=dark] .colab-df-convert {\n",
              "      background-color: #3B4455;\n",
              "      fill: #D2E3FC;\n",
              "    }\n",
              "\n",
              "    [theme=dark] .colab-df-convert:hover {\n",
              "      background-color: #434B5C;\n",
              "      box-shadow: 0px 1px 3px 1px rgba(0, 0, 0, 0.15);\n",
              "      filter: drop-shadow(0px 1px 2px rgba(0, 0, 0, 0.3));\n",
              "      fill: #FFFFFF;\n",
              "    }\n",
              "  </style>\n",
              "\n",
              "      <script>\n",
              "        const buttonEl =\n",
              "          document.querySelector('#df-bf5e8e8f-f593-46a0-a7db-4404e7cede57 button.colab-df-convert');\n",
              "        buttonEl.style.display =\n",
              "          google.colab.kernel.accessAllowed ? 'block' : 'none';\n",
              "\n",
              "        async function convertToInteractive(key) {\n",
              "          const element = document.querySelector('#df-bf5e8e8f-f593-46a0-a7db-4404e7cede57');\n",
              "          const dataTable =\n",
              "            await google.colab.kernel.invokeFunction('convertToInteractive',\n",
              "                                                     [key], {});\n",
              "          if (!dataTable) return;\n",
              "\n",
              "          const docLinkHtml = 'Like what you see? Visit the ' +\n",
              "            '<a target=\"_blank\" href=https://colab.research.google.com/notebooks/data_table.ipynb>data table notebook</a>'\n",
              "            + ' to learn more about interactive tables.';\n",
              "          element.innerHTML = '';\n",
              "          dataTable['output_type'] = 'display_data';\n",
              "          await google.colab.output.renderOutput(dataTable, element);\n",
              "          const docLink = document.createElement('div');\n",
              "          docLink.innerHTML = docLinkHtml;\n",
              "          element.appendChild(docLink);\n",
              "        }\n",
              "      </script>\n",
              "    </div>\n",
              "  </div>\n",
              "  "
            ]
          },
          "metadata": {},
          "execution_count": 47
        }
      ]
    },
    {
      "cell_type": "code",
      "source": [
        "def change(c):\n",
        "  if pd.isna(c):\n",
        "    return c\n",
        "  else:\n",
        "    return c[0]\n",
        "combine[\"Cabin\"] = combine[\"Cabin\"].apply(change)\n",
        "combine[\"Cabin\"]"
      ],
      "metadata": {
        "colab": {
          "base_uri": "https://localhost:8080/"
        },
        "id": "Cm17zjQaEMco",
        "outputId": "0d8ddc0c-810f-4717-9d7a-82991010137b"
      },
      "execution_count": null,
      "outputs": [
        {
          "output_type": "execute_result",
          "data": {
            "text/plain": [
              "0       NaN\n",
              "1         C\n",
              "2       NaN\n",
              "3         C\n",
              "4       NaN\n",
              "       ... \n",
              "1304    NaN\n",
              "1305      C\n",
              "1306    NaN\n",
              "1307    NaN\n",
              "1308    NaN\n",
              "Name: Cabin, Length: 1309, dtype: object"
            ]
          },
          "metadata": {},
          "execution_count": 48
        }
      ]
    },
    {
      "cell_type": "code",
      "source": [
        "# n = \"Braund, Mr. Owen Harris\"\n",
        "# n.split(\".\")[0].split(\",\")[-1].strip() # strip 去掉前後空格\n",
        "def change(n):\n",
        "  if pd.isna(n):\n",
        "    return n\n",
        "  else:\n",
        "    return n.split(\".\")[0].split(\",\")[-1].strip()\n",
        "combine[\"Name\"] = combine[\"Name\"].apply(change)\n",
        "combine[\"Name\"]"
      ],
      "metadata": {
        "colab": {
          "base_uri": "https://localhost:8080/"
        },
        "id": "ODpFP6ZzENms",
        "outputId": "8d6cdfa4-2195-453f-fc04-44ccb18aabe9"
      },
      "execution_count": null,
      "outputs": [
        {
          "output_type": "execute_result",
          "data": {
            "text/plain": [
              "0           Mr\n",
              "1          Mrs\n",
              "2         Miss\n",
              "3          Mrs\n",
              "4           Mr\n",
              "         ...  \n",
              "1304        Mr\n",
              "1305      Dona\n",
              "1306        Mr\n",
              "1307        Mr\n",
              "1308    Master\n",
              "Name: Name, Length: 1309, dtype: object"
            ]
          },
          "metadata": {},
          "execution_count": 49
        }
      ]
    },
    {
      "cell_type": "code",
      "source": [
        "count = combine[\"Ticket\"].value_counts() # Series 可當作 Dict 處理\n",
        "def change(t):\n",
        "  if pd.isna(t):\n",
        "    return t\n",
        "  else:\n",
        "    return count[t]\n",
        "# combine[\"Ticket\"]\n",
        "combine[\"Ticket\"] = combine[\"Ticket\"].apply(change)\n",
        "combine[\"Ticket\"]"
      ],
      "metadata": {
        "colab": {
          "base_uri": "https://localhost:8080/"
        },
        "id": "uSYt4prOEO1z",
        "outputId": "3ac23ae2-8464-43a2-99ee-36f1c32ec946"
      },
      "execution_count": null,
      "outputs": [
        {
          "output_type": "execute_result",
          "data": {
            "text/plain": [
              "0       1\n",
              "1       2\n",
              "2       1\n",
              "3       2\n",
              "4       1\n",
              "       ..\n",
              "1304    1\n",
              "1305    3\n",
              "1306    1\n",
              "1307    1\n",
              "1308    3\n",
              "Name: Ticket, Length: 1309, dtype: int64"
            ]
          },
          "metadata": {},
          "execution_count": 50
        }
      ]
    },
    {
      "cell_type": "code",
      "source": [
        "combine\n",
        "combine.isna() # 確認哪些是空值\n",
        "s = combine.isna().sum() # 確認每欄有幾個空值"
      ],
      "metadata": {
        "id": "YjwoJLEBEQM9"
      },
      "execution_count": null,
      "outputs": []
    },
    {
      "cell_type": "code",
      "source": [
        "\" 留取資料 \"\n",
        "# Pandas 的篩選操作 Filter\n",
        "# DataFrame / Series [帶入跟你資料筆數一樣多的True/False]\n",
        "pd.DataFrame([\n",
        "    [1, 2],\n",
        "    [3, 4],\n",
        "    [5, 6]\n",
        "])[[True, False, True]] #True外層[] 為袋子, 裝著資料的容器, 容器內只留1,3筆資料\n",
        "pd.Series([1, 2, 3])[[True, False, True]] \n",
        "\n",
        "s > 0 # 將每欄 > 0 呈現, 即為布林判斷\n",
        "s[s > 0] # 如剛剛的留取資料概念\n",
        "s[s > 0].sort_values(ascending = False) # 按價值排序, 不採升冪排列 (即以降冪排列)"
      ],
      "metadata": {
        "colab": {
          "base_uri": "https://localhost:8080/"
        },
        "id": "UIPkyCXqHjii",
        "outputId": "eb792985-c244-4d23-dc24-28d363a96b74"
      },
      "execution_count": null,
      "outputs": [
        {
          "output_type": "execute_result",
          "data": {
            "text/plain": [
              "Cabin       1014\n",
              "Age          263\n",
              "Embarked       2\n",
              "Fare           1\n",
              "dtype: int64"
            ]
          },
          "metadata": {},
          "execution_count": 52
        }
      ]
    },
    {
      "cell_type": "code",
      "source": [
        "# 不能有空的值 -> 應該補最有可能的值, 如下所示\n",
        "# 類別值(固定數值) -> ex: Embarked, Pclass, Name(中間), Sex, Cabin\n",
        "#  -> 最常出現的值\n",
        "# 數值(無限多可能) -> ex: Age, SibSp, Parch, Ticket, Fare\n",
        "#  -> 中間值(中位數)"
      ],
      "metadata": {
        "id": "nJKECLlhERdv"
      },
      "execution_count": null,
      "outputs": []
    },
    {
      "cell_type": "code",
      "source": [
        "\" 補類別值 -> 補最常出現的值 \"\n",
        "combine[\"Embarked\"].value_counts() # 取得 Embarked 欄位內值的數量\n",
        "combine[\"Embarked\"].value_counts().max() # 取得 Embarked 類別內數量最多的數量\n",
        "mostidx = combine[\"Embarked\"].value_counts().idxmax() # 取得 Embarked 內最多數量的值\n",
        "\n",
        "combine[\"Embarked\"] = combine[\"Embarked\"].fillna(mostidx) # fillna 空值欄填入資料, mostidx 為[(最多的類別)的值]\n",
        "\n",
        "s = combine.isna().sum()\n",
        "s[s > 0].sort_values(ascending = False) # 檢查資料缺失用"
      ],
      "metadata": {
        "colab": {
          "base_uri": "https://localhost:8080/"
        },
        "id": "6NBwbvlcGCa_",
        "outputId": "7dab846b-380d-4f27-96fd-d3261cbdea51"
      },
      "execution_count": null,
      "outputs": [
        {
          "output_type": "execute_result",
          "data": {
            "text/plain": [
              "Cabin    1014\n",
              "Age       263\n",
              "Fare        1\n",
              "dtype: int64"
            ]
          },
          "metadata": {},
          "execution_count": 54
        }
      ]
    },
    {
      "cell_type": "code",
      "source": [
        "\" 補數值 -> 補中位數值 \"\n",
        "combine.median() # 取得 combine 內所有欄位數值的中位數, 但 Pclass 不是數值, 而是類別值, 捨掉為佳\n",
        "med = combine.median().drop(\"Pclass\")\n",
        "\n",
        "combine = combine.fillna(med)\n",
        "\n",
        "s = combine.isna().sum()\n",
        "s[s > 0].sort_values(ascending = False) # 檢查資料缺失用"
      ],
      "metadata": {
        "colab": {
          "base_uri": "https://localhost:8080/"
        },
        "id": "EoKI4orrM_C7",
        "outputId": "6aea2be8-71ab-4b91-943e-80a778b90950"
      },
      "execution_count": null,
      "outputs": [
        {
          "output_type": "stream",
          "name": "stderr",
          "text": [
            "/usr/local/lib/python3.7/dist-packages/ipykernel_launcher.py:1: FutureWarning: Dropping of nuisance columns in DataFrame reductions (with 'numeric_only=None') is deprecated; in a future version this will raise TypeError.  Select only valid columns before calling the reduction.\n",
            "  \"\"\"Entry point for launching an IPython kernel.\n",
            "/usr/local/lib/python3.7/dist-packages/ipykernel_launcher.py:2: FutureWarning: Dropping of nuisance columns in DataFrame reductions (with 'numeric_only=None') is deprecated; in a future version this will raise TypeError.  Select only valid columns before calling the reduction.\n",
            "  \n"
          ]
        },
        {
          "output_type": "execute_result",
          "data": {
            "text/plain": [
              "Cabin    1014\n",
              "dtype: int64"
            ]
          },
          "metadata": {},
          "execution_count": 55
        }
      ]
    },
    {
      "cell_type": "code",
      "source": [
        "\"\"\" \n",
        "資料處理方式\n",
        "1.補缺失值\n",
        "  1.1 類別值:補最多值 / One-Hot Encoding\n",
        "  1.2 數值: 中位數\n",
        "2.One-Hot encoding (類別值, 非數值比大小判斷, 資料夠多) -> 以決策樹做想像\n",
        "\n",
        "\"\"\"\n",
        "combine[\"Name\"].value_counts()"
      ],
      "metadata": {
        "colab": {
          "base_uri": "https://localhost:8080/"
        },
        "id": "GrPznj6ZWwZ9",
        "outputId": "a1e52e15-644c-4ca5-fa22-e1f36bee86a4"
      },
      "execution_count": 56,
      "outputs": [
        {
          "output_type": "execute_result",
          "data": {
            "text/plain": [
              "Mr              757\n",
              "Miss            260\n",
              "Mrs             197\n",
              "Master           61\n",
              "Rev               8\n",
              "Dr                8\n",
              "Col               4\n",
              "Mlle              2\n",
              "Major             2\n",
              "Ms                2\n",
              "Lady              1\n",
              "Sir               1\n",
              "Mme               1\n",
              "Don               1\n",
              "Capt              1\n",
              "the Countess      1\n",
              "Jonkheer          1\n",
              "Dona              1\n",
              "Name: Name, dtype: int64"
            ]
          },
          "metadata": {},
          "execution_count": 56
        }
      ]
    },
    {
      "cell_type": "code",
      "source": [
        "\" 對類別做 One-Hot Encoding \"\n",
        "# 做 One-Hot Encoding 一定無礙, 但能否偷懶\n",
        "# Pclass 有大小關係的類別, 補: 最常出現的值, One-Hot Encoding:可做可不做, 但試過才知道有無更佳效益\n",
        "# Sex 僅二值, 可做可不做, male -> 0, female -> 1"
      ],
      "metadata": {
        "id": "MfRn3u4tahN6"
      },
      "execution_count": null,
      "outputs": []
    }
  ]
}