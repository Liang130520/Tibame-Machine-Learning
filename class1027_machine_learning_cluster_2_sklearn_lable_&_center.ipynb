{
  "nbformat": 4,
  "nbformat_minor": 0,
  "metadata": {
    "colab": {
      "provenance": [],
      "authorship_tag": "ABX9TyOH86EiGoDLw3bdRajUyVA/",
      "include_colab_link": true
    },
    "kernelspec": {
      "name": "python3",
      "display_name": "Python 3"
    },
    "language_info": {
      "name": "python"
    }
  },
  "cells": [
    {
      "cell_type": "markdown",
      "metadata": {
        "id": "view-in-github",
        "colab_type": "text"
      },
      "source": [
        "<a href=\"https://colab.research.google.com/github/Liang130520/Tibame-Machine-Learning/blob/main/class1027_machine_learning_cluster_2_sklearn_lable_%26_center.ipynb\" target=\"_parent\"><img src=\"https://colab.research.google.com/assets/colab-badge.svg\" alt=\"Open In Colab\"/></a>"
      ]
    },
    {
      "cell_type": "code",
      "source": [
        "\" 分群 \"\n",
        "# 沒有答案的選擇題, 用特徵去做分類 \n",
        "# 距離非固定算法, 有許多不同情況的算法 \n",
        "\n",
        "import pandas as pd\n",
        "from sklearn.datasets import load_iris\n",
        "iris = load_iris()\n",
        "df = pd.DataFrame(iris[\"data\"], columns=iris[\"feature_names\"])\n",
        "df"
      ],
      "metadata": {
        "id": "dG19yG3o9mQH"
      },
      "execution_count": null,
      "outputs": []
    },
    {
      "cell_type": "code",
      "source": [
        "\" K Means \" # K 個 中心(每個中心跟相關點的距離最近)\n",
        "# 迭代法：隨機選 3 個中心 --> 所有點依距離分配給 K 中心 --> (分群固定) 重新選新的 K 中心 [發現中心與距離距離不妥] --> 所有點依距離分配給 K 中心 {不斷重複step2, 3, 直到中心點不變或變動不大}\n",
        "\n",
        "\" K Means ++ \" # 一開始選的點盡量分地遠點, 較容易收斂分群結果"
      ],
      "metadata": {
        "id": "r4dAyUKACtsy"
      },
      "execution_count": null,
      "outputs": []
    },
    {
      "cell_type": "code",
      "source": [
        "from sklearn.cluster import KMeans\n",
        "cluster = KMeans(n_clusters = 3)\n",
        "cluster.fit(df)\n",
        "# 可參考 https://scikit-learn.org/stable/modules/generated/sklearn.cluster.KMeans.html\n",
        "# class sklearn.cluster.KMeans(n_clusters=8,\n",
        "#                              *,\n",
        "#                              init='k-means++',\n",
        "#                              n_init=10,\n",
        "#                              max_iter=300, # iter 即為迭代幾次\n",
        "#                              tol=0.0001,\n",
        "#                              verbose=0,\n",
        "#                              random_state=None,\n",
        "#                              copy_x=True,\n",
        "#                              algorithm='lloyd'\n",
        "#                              )"
      ],
      "metadata": {
        "id": "MY81tdgADG3q"
      },
      "execution_count": null,
      "outputs": []
    },
    {
      "cell_type": "code",
      "source": [
        "# 把分群完的答案存起來, 亦即為我自己分出答案, 然後這就是我得到的解答\n",
        "df[\"labels\"] = cluster.labels_\n",
        "df"
      ],
      "metadata": {
        "id": "UWOTGE5QEAlF"
      },
      "execution_count": null,
      "outputs": []
    },
    {
      "cell_type": "code",
      "source": [
        "\" K 的中心點 \"\n",
        "# sklearn 最後會取得虛擬中心, 原資料無小數後兩位, 而此結果為小數後多位\n",
        "cluster.cluster_centers_"
      ],
      "metadata": {
        "id": "qkUiWpLSEZ2t"
      },
      "execution_count": null,
      "outputs": []
    }
  ]
}