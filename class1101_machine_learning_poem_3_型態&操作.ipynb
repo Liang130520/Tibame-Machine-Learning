{
  "nbformat": 4,
  "nbformat_minor": 0,
  "metadata": {
    "colab": {
      "provenance": [],
      "authorship_tag": "ABX9TyM2K9FHkzQc0kpo1Cs/EaMQ",
      "include_colab_link": true
    },
    "kernelspec": {
      "name": "python3",
      "display_name": "Python 3"
    },
    "language_info": {
      "name": "python"
    }
  },
  "cells": [
    {
      "cell_type": "markdown",
      "metadata": {
        "id": "view-in-github",
        "colab_type": "text"
      },
      "source": [
        "<a href=\"https://colab.research.google.com/github/Liang130520/Tibame-Machine-Learning/blob/main/class1101_machine_learning_poem-3-%E5%9E%8B%E6%85%8B%26%E6%93%8D%E4%BD%9C.ipynb\" target=\"_parent\"><img src=\"https://colab.research.google.com/assets/colab-badge.svg\" alt=\"Open In Colab\"/></a>"
      ]
    },
    {
      "cell_type": "code",
      "execution_count": 1,
      "metadata": {
        "colab": {
          "base_uri": "https://localhost:8080/"
        },
        "id": "0tFzW9tdSAI4",
        "outputId": "9b628b23-3f55-46db-8b17-5b194978b759"
      },
      "outputs": [
        {
          "output_type": "execute_result",
          "data": {
            "text/plain": [
              "('test.csv', <http.client.HTTPMessage at 0x7f3daddcc450>)"
            ]
          },
          "metadata": {},
          "execution_count": 1
        }
      ],
      "source": [
        "from urllib.request import urlretrieve\n",
        "url = \"https://github.com/Elwing-Chou/tibaml1017/raw/main/poem_train.csv\"\n",
        "urlretrieve(url, \"train.csv\")\n",
        "url = \"https://github.com/Elwing-Chou/tibaml1017/raw/main/poem_test.csv\"\n",
        "urlretrieve(url, \"test.csv\")"
      ]
    },
    {
      "cell_type": "code",
      "source": [
        "import pandas as pd\n",
        "train_df = pd.read_csv(\"train.csv\", encoding = \"utf-8\")\n",
        "test_df = pd.read_csv(\"test.csv\", encoding = \"utf-8\")"
      ],
      "metadata": {
        "id": "zpu8XvcTS0rb"
      },
      "execution_count": 3,
      "outputs": []
    },
    {
      "cell_type": "code",
      "source": [
        "test_df"
      ],
      "metadata": {
        "id": "l9pCgeZUThIH"
      },
      "execution_count": null,
      "outputs": []
    },
    {
      "cell_type": "code",
      "source": [
        "# 進到所有函式庫之前, 不得為series, 需全部為數字\n",
        "# pandas 有兩種形式, 有顏色差異的是二維的 data frame, 沒顏色差異的是一維 series [test_df是data frame, ]\n",
        "# Series.value_counts/unique：value_counts會幫忙計算個別與總體數量, unique只會顯示有哪幾種不同資料\n",
        "# poets = train_df[\"作者\"].value_counts()\n",
        "# poets\n",
        "\n",
        "\" 將作者修改成數字 方法1 \"\n",
        "# Series.replace(字典) [\"李白\":0, \"杜甫\":1, \"白居易\":2]\n",
        "\n",
        "\" 將作者修改成數字 方法2 \"\n",
        "poets = train_df[\"作者\"].unique()\n",
        "# poet2idx = []\n",
        "# for i in range(len(poets)):\n",
        "#   poet2idx[poets[i]] = i\n",
        "poet2idx = {poets[i]:i for i in range(len(poets))} # 這行等於上面3行, python的特殊寫法\n",
        "idx2poet = {i:poets[i] for i in range(len(poets))} # 將 index 再轉回作者名\n",
        "poet2idx\n"
      ],
      "metadata": {
        "colab": {
          "base_uri": "https://localhost:8080/"
        },
        "id": "3MHKvfcAr3C9",
        "outputId": "6ee02ab5-c14c-48ff-9e65-55059321d4c7"
      },
      "execution_count": 9,
      "outputs": [
        {
          "output_type": "execute_result",
          "data": {
            "text/plain": [
              "{'李白': 0, '杜甫': 1, '白居易': 2}"
            ]
          },
          "metadata": {},
          "execution_count": 9
        }
      ]
    },
    {
      "cell_type": "code",
      "source": [
        "import numpy as np\n",
        "y_train = np.array(train_df[\"作者\"].replace(poet2idx))\n",
        "y_test = np.array(test_df[\"作者\"].replace(poet2idx))\n",
        "y_test"
      ],
      "metadata": {
        "colab": {
          "base_uri": "https://localhost:8080/"
        },
        "id": "sJjtjBOOufT2",
        "outputId": "3816f198-46ac-4bbe-8c22-17aa1b4f689e"
      },
      "execution_count": 23,
      "outputs": [
        {
          "output_type": "execute_result",
          "data": {
            "text/plain": [
              "array([0, 0, 0, 0, 0, 0, 0, 0, 0, 0, 1, 1, 1, 1, 1, 1, 1, 1, 1, 1, 2, 2,\n",
              "       2, 2, 2, 2, 2, 2, 2, 2])"
            ]
          },
          "metadata": {},
          "execution_count": 23
        }
      ]
    },
    {
      "cell_type": "code",
      "source": [
        "\" Every thing is an object \" # python 內每樣東西都有其形態, 都有其操作樣式\n",
        "# 型態 + 操作\n",
        "# list + [idx]\n",
        "# dict + [key]\n",
        "# print(\"hello\") --> print:(步驟)型態, (\"hello\"):(執行)操作\n",
        "b = abs # 沒加(), 是為型態, abs是絕對值型態\n",
        "b(-5.23)\n",
        "def test(n):\n",
        "  if n == 0:\n",
        "    return np.array\n",
        "  elif n == 1:\n",
        "    return pd.Series\n",
        "  else:\n",
        "    return list\n",
        "test(2)([1, 2, 3, 4]) # test(n) -> 未打開的錦囊, ([1, 2, 3, 4]) -> 打開錦囊要的操作"
      ],
      "metadata": {
        "colab": {
          "base_uri": "https://localhost:8080/"
        },
        "id": "XGCJoZhk4ISZ",
        "outputId": "6d27b01d-df7d-4edb-e644-b17da165c0c6"
      },
      "execution_count": 26,
      "outputs": [
        {
          "output_type": "execute_result",
          "data": {
            "text/plain": [
              "[1, 2, 3, 4]"
            ]
          },
          "metadata": {},
          "execution_count": 26
        }
      ]
    }
  ]
}
