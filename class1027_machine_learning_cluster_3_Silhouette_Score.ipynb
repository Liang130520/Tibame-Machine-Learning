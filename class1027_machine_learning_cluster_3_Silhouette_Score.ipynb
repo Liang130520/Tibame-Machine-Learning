{
  "nbformat": 4,
  "nbformat_minor": 0,
  "metadata": {
    "colab": {
      "provenance": [],
      "authorship_tag": "ABX9TyO/sAdW+N30EvbGMDPM0IMj",
      "include_colab_link": true
    },
    "kernelspec": {
      "name": "python3",
      "display_name": "Python 3"
    },
    "language_info": {
      "name": "python"
    }
  },
  "cells": [
    {
      "cell_type": "markdown",
      "metadata": {
        "id": "view-in-github",
        "colab_type": "text"
      },
      "source": [
        "<a href=\"https://colab.research.google.com/github/Liang130520/Tibame-Machine-Learning/blob/main/class1027_machine_learning_cluster_3_Silhouette_Score.ipynb\" target=\"_parent\"><img src=\"https://colab.research.google.com/assets/colab-badge.svg\" alt=\"Open In Colab\"/></a>"
      ]
    },
    {
      "cell_type": "code",
      "source": [
        "\" 分群 \"\n",
        "# 沒有答案的選擇題, 用特徵去做分類 \n",
        "# 距離非固定算法, 有許多不同情況的算法 \n",
        "\n",
        "import pandas as pd\n",
        "from sklearn.datasets import load_iris\n",
        "iris = load_iris()\n",
        "df = pd.DataFrame(iris[\"data\"], columns=iris[\"feature_names\"])\n",
        "df"
      ],
      "metadata": {
        "id": "dG19yG3o9mQH"
      },
      "execution_count": null,
      "outputs": []
    },
    {
      "cell_type": "code",
      "source": [
        "\" K Means \" # K 個 中心(每個中心跟相關點的距離最近)\n",
        "# 迭代法：隨機選 3 個中心 --> 所有點依距離分配給 K 中心 --> (分群固定) 重新選新的 K 中心 [發現中心與距離距離不妥] --> 所有點依距離分配給 K 中心 {不斷重複step2, 3, 直到中心點不變或變動不大}\n",
        "\n",
        "\" K Means ++ \" # 一開始選的點盡量分地遠點, 較容易收斂分群結果"
      ],
      "metadata": {
        "id": "r4dAyUKACtsy"
      },
      "execution_count": null,
      "outputs": []
    },
    {
      "cell_type": "code",
      "source": [
        "from sklearn.cluster import KMeans\n",
        "cluster = KMeans(n_clusters = 3)\n",
        "cluster.fit(df)\n",
        "# 可參考 https://scikit-learn.org/stable/modules/generated/sklearn.cluster.KMeans.html\n",
        "# class sklearn.cluster.KMeans(n_clusters=8,\n",
        "#                              *,\n",
        "#                              init='k-means++',\n",
        "#                              n_init=10,\n",
        "#                              max_iter=300, # iter 即為迭代幾次\n",
        "#                              tol=0.0001,\n",
        "#                              verbose=0,\n",
        "#                              random_state=None,\n",
        "#                              copy_x=True,\n",
        "#                              algorithm='lloyd'\n",
        "#                              )"
      ],
      "metadata": {
        "id": "MY81tdgADG3q"
      },
      "execution_count": null,
      "outputs": []
    },
    {
      "cell_type": "code",
      "source": [
        "# 把分群完的答案存起來, 亦即為我自己分出答案, 然後這就是我得到的解答\n",
        "df[\"labels\"] = cluster.labels_\n",
        "df"
      ],
      "metadata": {
        "id": "UWOTGE5QEAlF"
      },
      "execution_count": null,
      "outputs": []
    },
    {
      "cell_type": "code",
      "source": [
        "\" K 的中心點 \"\n",
        "# sklearn 最後會取得虛擬中心, 原資料無小數後兩位, 而此結果為小數後多位\n",
        "cluster.cluster_centers_"
      ],
      "metadata": {
        "id": "qkUiWpLSEZ2t"
      },
      "execution_count": null,
      "outputs": []
    },
    {
      "cell_type": "code",
      "source": [
        "\" 信心程度 \"\n",
        "# 令 A, B, C為三大群, Pa 為 A 中一點, 則 Pa 與 A 的親近程度越小越好, 與其他大群的疏遠程度越大越好\n",
        "# 親近程度：a = 所在群所有點m{所在群j所有點與Pa距離相加[(Pa,所在群j) ** 2] * 1/n} * 1/m\n",
        "# 疏遠程度：b = 所在群所有點m{所在群k所有點與Pa距離相加[(Pa,非所在又最近群k) ** 2] * 1/t} * 1/m\n",
        "\n",
        "\" silhouette score \" # 1 - a/b\n",
        "# a/b = a * 1/b, 期望 a 為min, 1/b 為min, 可取得最大信心程度\n",
        "# if a/b = 0 --> a = 0, b = 無限大\n",
        "# if a/b = 1 --> a = b, 即「所在群j中所有點到其餘點距離」與「所在群j中所有點到非所在又最近群k中所有點距離」相同, 亦即所有點皆有其剛好同等距離的對應中心, 信心程度恰為50% (瞎猜意義)"
      ],
      "metadata": {
        "id": "m-T1c6k_JYdT"
      },
      "execution_count": null,
      "outputs": []
    },
    {
      "cell_type": "code",
      "source": [
        "# 未知 K：把所有 K 試過一遍, 看每個 K 選完的親疏程度\n",
        "from sklearn.metrics import silhouette_score\n",
        "for testk in range(2, 20):\n",
        "  testcluster = KMeans(n_clusters = testk)\n",
        "  testcluster.fit(iris[\"data\"])\n",
        "  score = silhouette_score(iris[\"data\"], testcluster.labels_)\n",
        "  print(testk, score)"
      ],
      "metadata": {
        "colab": {
          "base_uri": "https://localhost:8080/"
        },
        "id": "8-2SWjYVO3HV",
        "outputId": "164489bb-9795-4ec7-ea31-ef2823ecc8d0"
      },
      "execution_count": 12,
      "outputs": [
        {
          "output_type": "stream",
          "name": "stdout",
          "text": [
            "2 0.6810461692117462\n",
            "3 0.5528190123564095\n",
            "4 0.49805050499728737\n",
            "5 0.48874888709310566\n",
            "6 0.36483400396700255\n",
            "7 0.3566882476581695\n",
            "8 0.3538958470891033\n",
            "9 0.3168140524541132\n",
            "10 0.32452867935241525\n",
            "11 0.29821106114266804\n",
            "12 0.2922745183913\n",
            "13 0.2901131157081898\n",
            "14 0.2982936643687306\n",
            "15 0.2926640465218365\n",
            "16 0.2880603391160556\n",
            "17 0.2844886030221778\n",
            "18 0.27205206074013016\n",
            "19 0.26673258717591625\n"
          ]
        }
      ]
    }
  ]
}