{
  "nbformat": 4,
  "nbformat_minor": 0,
  "metadata": {
    "colab": {
      "provenance": [],
      "authorship_tag": "ABX9TyOo6jq5SiJCjxbBim7xwPur",
      "include_colab_link": true
    },
    "kernelspec": {
      "name": "python3",
      "display_name": "Python 3"
    },
    "language_info": {
      "name": "python"
    }
  },
  "cells": [
    {
      "cell_type": "markdown",
      "metadata": {
        "id": "view-in-github",
        "colab_type": "text"
      },
      "source": [
        "<a href=\"https://colab.research.google.com/github/Liang130520/Tibame-Machine-Learning/blob/main/class1102_machine_learning_Kaggle_Titanic_3_apply.ipynb\" target=\"_parent\"><img src=\"https://colab.research.google.com/assets/colab-badge.svg\" alt=\"Open In Colab\"/></a>"
      ]
    },
    {
      "cell_type": "code",
      "execution_count": 7,
      "metadata": {
        "colab": {
          "base_uri": "https://localhost:8080/"
        },
        "id": "bDDVTHZ9LHRy",
        "outputId": "958d254c-bf91-48bc-948a-9a5a9e822aca"
      },
      "outputs": [
        {
          "output_type": "execute_result",
          "data": {
            "text/plain": [
              "('test.csv', <http.client.HTTPMessage at 0x7ff77d2f9650>)"
            ]
          },
          "metadata": {},
          "execution_count": 7
        }
      ],
      "source": [
        "\" Kaggle \"\n",
        "from urllib.request import urlretrieve\n",
        "\n",
        "url = \"https://github.com/Elwing-Chou/tibaml1017/raw/main/titanic/train.csv\"\n",
        "urlretrieve(url, \"train.csv\")\n",
        "\n",
        "url = \"https://github.com/Elwing-Chou/tibaml1017/raw/main/titanic/test.csv\"\n",
        "urlretrieve(url, \"test.csv\")"
      ]
    },
    {
      "cell_type": "code",
      "source": [
        "import pandas as pd\n",
        "\n",
        "datas = pd.read_csv(\"train.csv\", encoding = \"utf-8\")\n",
        "predicts = pd.read_csv(\"test.csv\", encoding = \"utf-8\")\n"
      ],
      "metadata": {
        "id": "7M5fHzF7Lvyj"
      },
      "execution_count": 8,
      "outputs": []
    },
    {
      "cell_type": "code",
      "source": [
        "predicts"
      ],
      "metadata": {
        "id": "4nMUmAgWO2ox"
      },
      "execution_count": null,
      "outputs": []
    },
    {
      "cell_type": "code",
      "source": [
        "combine = pd.concat([datas, predicts], axis = 0, ignore_index = True) # 重設 預設ID\n",
        "combine = combine.drop([\"PassengerId\", \"Survived\"], axis = 1) # 建立去除此兩欄的新表\n",
        "combine"
      ],
      "metadata": {
        "id": "RpFsgeQ7P6VJ"
      },
      "execution_count": null,
      "outputs": []
    },
    {
      "cell_type": "code",
      "source": [
        "def change(c):\n",
        "  if pd.isna(c):\n",
        "    return c\n",
        "  else:\n",
        "    return c[0]\n",
        "combine[\"Cabin\"] = combine[\"Cabin\"].apply(change)\n",
        "combine[\"Cabin\"]"
      ],
      "metadata": {
        "colab": {
          "base_uri": "https://localhost:8080/"
        },
        "id": "r70ve7tiQlaY",
        "outputId": "8be8192a-25ae-41d0-ff92-938b6add13fd"
      },
      "execution_count": 20,
      "outputs": [
        {
          "output_type": "execute_result",
          "data": {
            "text/plain": [
              "0       NaN\n",
              "1         C\n",
              "2       NaN\n",
              "3         C\n",
              "4       NaN\n",
              "       ... \n",
              "1304    NaN\n",
              "1305      C\n",
              "1306    NaN\n",
              "1307    NaN\n",
              "1308    NaN\n",
              "Name: Cabin, Length: 1309, dtype: object"
            ]
          },
          "metadata": {},
          "execution_count": 20
        }
      ]
    }
  ]
}