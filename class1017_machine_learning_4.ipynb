{
  "nbformat": 4,
  "nbformat_minor": 0,
  "metadata": {
    "colab": {
      "provenance": [],
      "authorship_tag": "ABX9TyOLczoLKNYeh6kgjK6QxeON",
      "include_colab_link": true
    },
    "kernelspec": {
      "name": "python3",
      "display_name": "Python 3"
    },
    "language_info": {
      "name": "python"
    }
  },
  "cells": [
    {
      "cell_type": "markdown",
      "metadata": {
        "id": "view-in-github",
        "colab_type": "text"
      },
      "source": [
        "<a href=\"https://colab.research.google.com/github/Liang130520/tibaml1017/blob/main/class1017_machine_learning_4.ipynb\" target=\"_parent\"><img src=\"https://colab.research.google.com/assets/colab-badge.svg\" alt=\"Open In Colab\"/></a>"
      ]
    },
    {
      "cell_type": "code",
      "source": [
        "# 統計需要的資料量\n",
        "# Machine learning: 1K 以上, Deep learning: 1W以上\n",
        "# 資料量多寡 -> 問題難度(大概跟欄位數目掛勾)\n",
        "\n",
        "import pandas as pd\n",
        "from sklearn.datasets import load_iris\n",
        "\n",
        "iris = load_iris()\n",
        "# iris # 鳶尾花的所有資料\n",
        "df = pd.DataFrame(iris[\"data\"], columns = iris[\"feature_names\"]) # pandas的表個型態\n",
        "df[\"ans\"] = iris[\"target\"]\n",
        "df"
      ],
      "metadata": {
        "id": "ybmLZ_n1ibFJ"
      },
      "execution_count": null,
      "outputs": []
    },
    {
      "cell_type": "markdown",
      "source": [
        "load_iris 詳細資料-> feature_names': ['sepal length (cm)',  'sepal width (cm)',  'petal length (cm)',  'petal width (cm)'], 'filename': 'iris.csv', 'data_module': 'sklearn.datasets.data'}\n",
        "'target_names': array(['setosa', 'versicolor', 'virginica'] 分別對應 target 0, 1, 2"
      ],
      "metadata": {
        "id": "oiFcVqsSfZ1l"
      }
    },
    {
      "cell_type": "code",
      "source": [
        "# 處理資料: pandas -> DataFrame\n",
        "# 進到sklearn: numpy -> array\n",
        "import numpy as np\n",
        "from sklearn.model_selection import train_test_split\n",
        "\n",
        "x = df.drop(\"ans\", axis = 1) # 去除直欄 \"ans\", 產生一個新表格 x, 原 df 仍有 ans 直欄\n",
        "x = np.array(x)\n",
        "y = np.array(df[\"ans\"])\n",
        "x_train, x_test, y_train, y_test = train_test_split(x, y, test_size = 0.1) # 90% x, 10% x, 90% y, 10% y\n",
        "show = x_test\n",
        "print(show)\n",
        "print(\"-----------------------\")\n",
        "x_train\n",
        "# train_test_split([1, 2, 3, 4],\n",
        "#                   [5, 6, 7, 8],\n",
        "#                   [9, 10, 11, 12],\n",
        "#                   test_size = 0.25)  \n",
        "# # test_size 進行 ?:? 內容隨機切等分, ex:0.25 = 3:1, 0.1 = 9:1, 且若有多選項, 將會有同相對應位置"
      ],
      "metadata": {
        "id": "G8nRVkmaiafa"
      },
      "execution_count": null,
      "outputs": []
    },
    {
      "cell_type": "code",
      "source": [
        "d = pd.DataFrame([\n",
        "        [1, 2],\n",
        "        [3, 4]\n",
        "    ], columns = [\"a\", \"b\"], index = [\"a\", \"b\"])\n",
        "\n",
        "d.drop(\"a\", axis = 0) # b(3, 4) 列 a 被去除, 形成新表格\n",
        "d.drop(\"a\", axis = 1) # b(2, 4) 欄 a 被去除, 形成新表格"
      ],
      "metadata": {
        "id": "AIDsPC-0i42-"
      },
      "execution_count": null,
      "outputs": []
    },
    {
      "cell_type": "code",
      "source": [
        "from sklearn.tree import DecisionTreeClassifier\n",
        "\n",
        "clf = DecisionTreeClassifier()\n",
        "clf.fit(x_train, y_train) # 模型訓練"
      ],
      "metadata": {
        "id": "lLgq5pm2r0AA"
      },
      "execution_count": null,
      "outputs": []
    },
    {
      "cell_type": "code",
      "source": [
        "import matplotlib.pyplot as plt\n",
        "from sklearn.tree import plot_tree\n",
        "plt.figure(figsize = (20, 20)) # 圖片放大, 數值越大, 呈現越大\n",
        "plot_tree(clf, \n",
        "          feature_names = iris[\"feature_names\"], \n",
        "          filled = True, \n",
        "          class_names = iris[\"target_names\"]) \n",
        "# 模型樹 \n",
        "# 左邊是 T, 右邊是 F\n",
        "# feature_names 最上層判斷用資料名稱\n",
        "# filled 將圖片上色, 以利辨識\n",
        "# class_names 寫出當下判斷結果\n",
        "# 模型會持續進行到所有可能的 gini係數(判斷錯誤可能性) 皆成為 0, 才會停下\n",
        "# gini係數計算方式, (p1 * (1-p1) + p2 * (1-p2)+.........) \n",
        "# [猜:60%對,40%錯, 猜的每次正確機率:60%對, 40%錯] -> if 要取得猜錯機率 -> [猜對:60%*40% + 猜錯:40%*60%] = 48%"
      ],
      "metadata": {
        "id": "LjNwLxltsSFw"
      },
      "execution_count": null,
      "outputs": []
    },
    {
      "cell_type": "code",
      "source": [
        "# metrics : 評估標準\n",
        "from sklearn.metrics import accuracy_score\n",
        "\n",
        "pre = clf.predict(x_test) # 預測結果, 可與正確答案進行比對\n",
        "accuracy_score(y_test, pre) # 正確結果為 y 中的 ans, 進行比對作業"
      ],
      "metadata": {
        "colab": {
          "base_uri": "https://localhost:8080/"
        },
        "id": "vhWJwg7549nw",
        "outputId": "83984387-e496-4b23-c571-ea795249fbcd"
      },
      "execution_count": 48,
      "outputs": [
        {
          "output_type": "execute_result",
          "data": {
            "text/plain": [
              "0.9333333333333333"
            ]
          },
          "metadata": {},
          "execution_count": 48
        }
      ]
    }
  ]
}